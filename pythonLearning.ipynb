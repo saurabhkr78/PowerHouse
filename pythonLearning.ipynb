{
  "nbformat": 4,
  "nbformat_minor": 0,
  "metadata": {
    "colab": {
      "provenance": [],
      "include_colab_link": true
    },
    "kernelspec": {
      "name": "python3",
      "display_name": "Python 3"
    },
    "language_info": {
      "name": "python"
    }
  },
  "cells": [
    {
      "cell_type": "markdown",
      "metadata": {
        "id": "view-in-github",
        "colab_type": "text"
      },
      "source": [
        "<a href=\"https://colab.research.google.com/github/saurabhkr78/PowerHouse/blob/main/pythonLearning.ipynb\" target=\"_parent\"><img src=\"https://colab.research.google.com/assets/colab-badge.svg\" alt=\"Open In Colab\"/></a>"
      ]
    },
    {
      "cell_type": "code",
      "execution_count": null,
      "metadata": {
        "colab": {
          "base_uri": "https://localhost:8080/"
        },
        "id": "P3DRwlygDXGh",
        "outputId": "e2c0e719-436d-44aa-897d-08d622376366"
      },
      "outputs": [
        {
          "output_type": "stream",
          "name": "stdout",
          "text": [
            "5-6-7\n",
            "5 6 7\n"
          ]
        },
        {
          "output_type": "execute_result",
          "data": {
            "text/plain": [
              "0.8333333333333334"
            ]
          },
          "metadata": {},
          "execution_count": 6
        }
      ],
      "source": [
        "a=5\n",
        "b=6\n",
        "c=7\n",
        "#change seperator\n",
        "print(a,b,c,sep=\"-\")\n",
        "print(a,b,c)\n",
        "#power calc\n",
        "a**3\n",
        "#python division\n",
        "d=8/7\n",
        "#floor division\n",
        "a//b"
      ]
    },
    {
      "cell_type": "code",
      "source": [
        "8/7\n"
      ],
      "metadata": {
        "colab": {
          "base_uri": "https://localhost:8080/"
        },
        "id": "Qk3PgTCsH8vc",
        "outputId": "775acf80-94ec-456c-b0e6-b65e282df886"
      },
      "execution_count": null,
      "outputs": [
        {
          "output_type": "execute_result",
          "data": {
            "text/plain": [
              "1.1428571428571428"
            ]
          },
          "metadata": {},
          "execution_count": 9
        }
      ]
    },
    {
      "cell_type": "code",
      "source": [
        "a=3//4\n",
        "b=3.0//4\n",
        "print(a)\n",
        "print(b)"
      ],
      "metadata": {
        "colab": {
          "base_uri": "https://localhost:8080/"
        },
        "id": "ZhPKpSmQIGkn",
        "outputId": "6b31a1dd-28ba-483d-a169-49f2206fd9fb"
      },
      "execution_count": null,
      "outputs": [
        {
          "output_type": "stream",
          "name": "stdout",
          "text": [
            "0\n",
            "0.0\n"
          ]
        }
      ]
    },
    {
      "cell_type": "code",
      "source": [
        "a=3%2\n",
        "b=3.5%2\n",
        "print(a)\n",
        "print(b)"
      ],
      "metadata": {
        "colab": {
          "base_uri": "https://localhost:8080/"
        },
        "id": "JtYwX5MAIQdg",
        "outputId": "7dfd82c0-bc28-4c90-865d-a5f77714a51c"
      },
      "execution_count": null,
      "outputs": [
        {
          "output_type": "stream",
          "name": "stdout",
          "text": [
            "1\n",
            "1.5\n"
          ]
        }
      ]
    },
    {
      "cell_type": "code",
      "source": [
        "10>6>5>2>1"
      ],
      "metadata": {
        "colab": {
          "base_uri": "https://localhost:8080/"
        },
        "id": "rwGLgVGaI5M7",
        "outputId": "8dcab32d-e06a-4728-fdf6-9a190e0194b2"
      },
      "execution_count": null,
      "outputs": [
        {
          "output_type": "execute_result",
          "data": {
            "text/plain": [
              "True"
            ]
          },
          "metadata": {},
          "execution_count": 17
        }
      ]
    },
    {
      "cell_type": "code",
      "source": [
        "not True"
      ],
      "metadata": {
        "colab": {
          "base_uri": "https://localhost:8080/"
        },
        "id": "0ziKpVM0JEiH",
        "outputId": "2d9980dc-9e16-446c-ceae-f23d9c027407"
      },
      "execution_count": null,
      "outputs": [
        {
          "output_type": "execute_result",
          "data": {
            "text/plain": [
              "False"
            ]
          },
          "metadata": {},
          "execution_count": 19
        }
      ]
    },
    {
      "cell_type": "code",
      "source": [
        "3>0 and 4>0"
      ],
      "metadata": {
        "colab": {
          "base_uri": "https://localhost:8080/"
        },
        "id": "iXNS8E4hJOuv",
        "outputId": "c5dde82d-5f8a-432d-d6e9-164f44af1738"
      },
      "execution_count": null,
      "outputs": [
        {
          "output_type": "execute_result",
          "data": {
            "text/plain": [
              "True"
            ]
          },
          "metadata": {},
          "execution_count": 20
        }
      ]
    },
    {
      "cell_type": "code",
      "source": [
        "3>0 or 4>0"
      ],
      "metadata": {
        "colab": {
          "base_uri": "https://localhost:8080/"
        },
        "id": "iw6OyARGJV1m",
        "outputId": "8d660861-2dc5-466d-f796-bdf4723daad5"
      },
      "execution_count": null,
      "outputs": [
        {
          "output_type": "execute_result",
          "data": {
            "text/plain": [
              "True"
            ]
          },
          "metadata": {},
          "execution_count": 21
        }
      ]
    },
    {
      "cell_type": "code",
      "source": [
        "a=\"sheeta\" or \"geeta\"\n",
        "b=\"ram\"and \"shyam\"\n",
        "print(a)\n",
        "print (b)"
      ],
      "metadata": {
        "colab": {
          "base_uri": "https://localhost:8080/"
        },
        "id": "X7GPINnDKXs4",
        "outputId": "90607e24-e763-460a-b181-e20daa22df2e"
      },
      "execution_count": null,
      "outputs": [
        {
          "output_type": "stream",
          "name": "stdout",
          "text": [
            "sheeta\n",
            "shyam\n"
          ]
        }
      ]
    },
    {
      "cell_type": "code",
      "source": [
        "a=3&4#binary operation\n",
        "b=3|4\n",
        "print(a)\n",
        "print (b)"
      ],
      "metadata": {
        "colab": {
          "base_uri": "https://localhost:8080/"
        },
        "id": "w2q-I6ufK_GF",
        "outputId": "1d52f09c-6feb-47a5-b575-3fba11544109"
      },
      "execution_count": null,
      "outputs": [
        {
          "output_type": "stream",
          "name": "stdout",
          "text": [
            "0\n",
            "7\n"
          ]
        }
      ]
    },
    {
      "cell_type": "code",
      "source": [
        "#assignment\n",
        "a,b,c,d=4,5,6,-1\n",
        "print(a)\n",
        "print (b)\n",
        "print(c)\n",
        "print (d)"
      ],
      "metadata": {
        "colab": {
          "base_uri": "https://localhost:8080/"
        },
        "id": "_sqm8XK_LUxs",
        "outputId": "c3006f10-c978-4dd1-d76f-fcf632006754"
      },
      "execution_count": null,
      "outputs": [
        {
          "output_type": "stream",
          "name": "stdout",
          "text": [
            "4\n",
            "5\n",
            "6\n",
            "-1\n"
          ]
        }
      ]
    },
    {
      "cell_type": "code",
      "source": [
        "#python already have an object of value 5 in memory so python just passes the id  to new refrence varibales so now x and y have same id(refrence address)\n",
        "x=5\n",
        "a=id(x)\n",
        "y=5\n",
        "b=id(y)\n",
        "c=x is y\n",
        "print(a)\n",
        "print(b)\n",
        "print(c)"
      ],
      "metadata": {
        "colab": {
          "base_uri": "https://localhost:8080/"
        },
        "id": "IsFH_RFfL2YK",
        "outputId": "b0271639-6cd9-40a3-9867-20c52b8ecf96"
      },
      "execution_count": null,
      "outputs": [
        {
          "output_type": "stream",
          "name": "stdout",
          "text": [
            "132763043512688\n",
            "132763043512688\n",
            "True\n"
          ]
        }
      ]
    },
    {
      "cell_type": "code",
      "source": [
        "y=\"saurabh\"\n",
        "\"sau\" in y"
      ],
      "metadata": {
        "colab": {
          "base_uri": "https://localhost:8080/"
        },
        "id": "lrbxM2bAPYer",
        "outputId": "2784abf2-0b0c-4c0c-914a-1012515354b2"
      },
      "execution_count": null,
      "outputs": [
        {
          "output_type": "execute_result",
          "data": {
            "text/plain": [
              "True"
            ]
          },
          "metadata": {},
          "execution_count": 33
        }
      ]
    },
    {
      "cell_type": "code",
      "source": [
        "x=input()\n",
        "print(x)\n",
        "a=type(x)\n",
        "c=\"xyz\"+\"abc\"\n",
        "print(c)\n",
        "print(a)"
      ],
      "metadata": {
        "colab": {
          "base_uri": "https://localhost:8080/"
        },
        "id": "EkuAAoToPtAP",
        "outputId": "132edd75-962d-4174-fecf-40289c544d71"
      },
      "execution_count": null,
      "outputs": [
        {
          "output_type": "stream",
          "name": "stdout",
          "text": [
            "hello\n",
            "hello\n",
            "xyzabc\n",
            "<class 'str'>\n"
          ]
        }
      ]
    },
    {
      "cell_type": "code",
      "source": [
        "a=5+int(\"5\")\n",
        "b=bin(5)\n",
        "k=type(b)\n",
        "c=hex(5)\n",
        "d=oct(5)\n",
        "\n",
        "print(a)\n",
        "print(b)\n",
        "print(k)\n",
        "print(c)\n",
        "print(d)\n",
        "z=ord(\"A\")\n",
        "print(z)\n",
        "m=chr(65)\n",
        "print(m)"
      ],
      "metadata": {
        "colab": {
          "base_uri": "https://localhost:8080/"
        },
        "id": "8LNl4ilnQhR4",
        "outputId": "b595e362-e467-47ea-b372-fe3f5a623734"
      },
      "execution_count": null,
      "outputs": [
        {
          "output_type": "stream",
          "name": "stdout",
          "text": [
            "10\n",
            "0b101\n",
            "<class 'str'>\n",
            "0x5\n",
            "0o5\n",
            "65\n",
            "A\n"
          ]
        }
      ]
    },
    {
      "cell_type": "code",
      "source": [
        "#user input\n",
        "print(\"ENter two numbers\")\n",
        "a,b=int(input()),int(input())#input function returns string value so we typecasted here\n",
        "c=a+b\n",
        "print(c)\n"
      ],
      "metadata": {
        "colab": {
          "base_uri": "https://localhost:8080/"
        },
        "id": "q3HPHjuUUnZg",
        "outputId": "e45463ab-ac30-49f6-f8a4-a81273b8ab51"
      },
      "execution_count": null,
      "outputs": [
        {
          "output_type": "stream",
          "name": "stdout",
          "text": [
            "ENter two numbers\n",
            "12\n",
            "13\n",
            "25\n"
          ]
        }
      ]
    },
    {
      "cell_type": "code",
      "source": [
        "a=3\n",
        "b=1\n",
        "if a>b:\n",
        "  print(a)\n",
        "else:\n",
        "  print(b)"
      ],
      "metadata": {
        "colab": {
          "base_uri": "https://localhost:8080/"
        },
        "id": "fncRyLSiVebe",
        "outputId": "8c761924-1742-456f-cf53-8b53bbc1fbd4"
      },
      "execution_count": null,
      "outputs": [
        {
          "output_type": "stream",
          "name": "stdout",
          "text": [
            "3\n"
          ]
        }
      ]
    },
    {
      "cell_type": "code",
      "source": [
        "a=3\n",
        "b=0\n",
        "if a<b:\n",
        "  print(a)\n",
        "  print(b)\n",
        "print(\"bye\")"
      ],
      "metadata": {
        "colab": {
          "base_uri": "https://localhost:8080/"
        },
        "id": "ACQsM9xZWabo",
        "outputId": "77a3292a-2485-447e-931b-46f28a5de0b2"
      },
      "execution_count": null,
      "outputs": [
        {
          "output_type": "stream",
          "name": "stdout",
          "text": [
            "bye\n"
          ]
        }
      ]
    },
    {
      "cell_type": "code",
      "source": [
        "#first n natural number\n",
        "n=int(input())\n",
        "i=1\n",
        "while i<=n:\n",
        "  print(i,end=' ')\n",
        "  i+=1"
      ],
      "metadata": {
        "colab": {
          "base_uri": "https://localhost:8080/"
        },
        "id": "EL7byfYekZJ1",
        "outputId": "856d7684-c19b-4e20-d96f-64793cd6792e"
      },
      "execution_count": null,
      "outputs": [
        {
          "output_type": "stream",
          "name": "stdout",
          "text": [
            "5\n",
            "1 2 3 4 5 "
          ]
        }
      ]
    },
    {
      "cell_type": "code",
      "source": [
        "#prime no\n",
        "n=int(input())\n",
        "i=2\n",
        "while i<=n-1:\n",
        "  if n%i==0:\n",
        "      print(\"not prime\")\n",
        "      break\n",
        "  i+=1\n",
        "\n",
        "else:\n",
        "    print(\"prime\")\n",
        "\n"
      ],
      "metadata": {
        "colab": {
          "base_uri": "https://localhost:8080/"
        },
        "id": "ekP_66MKlck-",
        "outputId": "8fd4d53b-57aa-42d9-af05-92b62922887c"
      },
      "execution_count": null,
      "outputs": [
        {
          "output_type": "stream",
          "name": "stdout",
          "text": [
            "15\n",
            "not prime\n"
          ]
        }
      ]
    },
    {
      "cell_type": "code",
      "source": [
        "#for loop\n",
        "str=\"saurabh\"\n",
        "for a in str: #elenents of str will go one by one in a variable\n",
        "  print(a,ord(a))\n"
      ],
      "metadata": {
        "colab": {
          "base_uri": "https://localhost:8080/"
        },
        "id": "4YKm1gtEoCMI",
        "outputId": "bd483d06-8636-4371-b777-ff7cb59a68eb"
      },
      "execution_count": null,
      "outputs": [
        {
          "output_type": "stream",
          "name": "stdout",
          "text": [
            "s 115\n",
            "a 97\n",
            "u 117\n",
            "r 114\n",
            "a 97\n",
            "b 98\n",
            "h 104\n"
          ]
        }
      ]
    },
    {
      "cell_type": "code",
      "source": [
        "#range(5) by defalut =0,begend =5 and step=1\n",
        "r=range(1,10,1)\n",
        "for k in r:\n",
        "  print(k,end=\" \")\n",
        "\n",
        "\n"
      ],
      "metadata": {
        "colab": {
          "base_uri": "https://localhost:8080/"
        },
        "id": "Hez1U3MiuUyF",
        "outputId": "f29bd42d-fc63-4fc2-92ea-305bceeddf11"
      },
      "execution_count": null,
      "outputs": [
        {
          "output_type": "stream",
          "name": "stdout",
          "text": [
            "1 2 3 4 5 6 7 8 9 "
          ]
        }
      ]
    },
    {
      "cell_type": "code",
      "source": [
        "q=range(10,3,-2)\n",
        "for j in q:\n",
        "  print(j,end=\" \")"
      ],
      "metadata": {
        "colab": {
          "base_uri": "https://localhost:8080/"
        },
        "id": "TJ8n2i1zyK0a",
        "outputId": "ac0a1ac6-95ef-4c35-eec0-7c1f6034376c"
      },
      "execution_count": null,
      "outputs": [
        {
          "output_type": "stream",
          "name": "stdout",
          "text": [
            "10 8 6 4 "
          ]
        }
      ]
    },
    {
      "cell_type": "code",
      "source": [
        "r=range(1,10,1)\n",
        "for k in r:\n",
        "  print(k,k**2)"
      ],
      "metadata": {
        "colab": {
          "base_uri": "https://localhost:8080/"
        },
        "id": "eNZHFTh2yvrN",
        "outputId": "087a2b96-7d20-47fb-85b6-627533697a4a"
      },
      "execution_count": null,
      "outputs": [
        {
          "output_type": "stream",
          "name": "stdout",
          "text": [
            "1 1\n",
            "2 4\n",
            "3 9\n",
            "4 16\n",
            "5 25\n",
            "6 36\n",
            "7 49\n",
            "8 64\n",
            "9 81\n"
          ]
        }
      ]
    },
    {
      "cell_type": "code",
      "source": [
        "#list\n",
        "#l1=[1,2,3,4,5,6]\n",
        "#type(l1)\n",
        "l2=[1,2.0,0.0,3+4j,\"Saurabh\",'a']\n",
        "type(l2)\n",
        "l3=[]\n",
        "type(l3)"
      ],
      "metadata": {
        "colab": {
          "base_uri": "https://localhost:8080/"
        },
        "id": "ntpkjU_qznqC",
        "outputId": "30e1c43a-d84d-4eb5-f062-cb27d713c9fd"
      },
      "execution_count": null,
      "outputs": [
        {
          "output_type": "execute_result",
          "data": {
            "text/plain": [
              "set"
            ]
          },
          "metadata": {},
          "execution_count": 102
        }
      ]
    },
    {
      "cell_type": "code",
      "source": [
        "l2=[1,2.0,0.0,3+4j,\"Saurabh\",'a']\n",
        "b=type(l2)\n",
        "print(b)\n",
        "print(l2)\n",
        "print(l2[0])\n",
        "print(l2[3],l2[5])\n",
        "print(l2[-2])\n",
        "for x in l2:\n",
        "  print(x,end=\" \")\n",
        "  #delete size reduced\n",
        "del l2[2]\n",
        "#edit element\n",
        "l2[4]=70\n"
      ],
      "metadata": {
        "colab": {
          "base_uri": "https://localhost:8080/"
        },
        "id": "JtKOv0TN4agJ",
        "outputId": "a317ea17-54a0-4c93-8879-11e8c2b887c5"
      },
      "execution_count": null,
      "outputs": [
        {
          "output_type": "stream",
          "name": "stdout",
          "text": [
            "<class 'list'>\n",
            "[1, 2.0, 0.0, (3+4j), 'Saurabh', 'a']\n",
            "1\n",
            "(3+4j) a\n",
            "Saurabh\n",
            "1 2.0 0.0 (3+4j) Saurabh a "
          ]
        }
      ]
    },
    {
      "cell_type": "code",
      "source": [
        "l2=[1,2.0,0.0,3+4j,\"Saurabh\",'a']\n",
        "del l2[2]\n",
        "print(l2)\n",
        "l2[4]=\"Ram\"\n",
        "print(l2)\n",
        "l2.append(\"xyz\")\n",
        "print(l2)\n",
        "l2.insert(3,\"Siya\")\n",
        "print(l2)\n",
        "l2.insert(25,\"Siya\")\n",
        "print(l2)\n",
        "\n"
      ],
      "metadata": {
        "colab": {
          "base_uri": "https://localhost:8080/"
        },
        "id": "h-lodWsY7D3G",
        "outputId": "9f797584-9a8b-4190-f4a0-eb579108b2b1"
      },
      "execution_count": null,
      "outputs": [
        {
          "output_type": "stream",
          "name": "stdout",
          "text": [
            "[1, 2.0, (3+4j), 'Saurabh', 'a']\n",
            "[1, 2.0, (3+4j), 'Saurabh', 'Ram']\n",
            "[1, 2.0, (3+4j), 'Saurabh', 'Ram', 'xyz']\n",
            "[1, 2.0, (3+4j), 'Siya', 'Saurabh', 'Ram', 'xyz']\n",
            "[1, 2.0, (3+4j), 'Siya', 'Saurabh', 'Ram', 'xyz', 'Siya']\n"
          ]
        }
      ]
    },
    {
      "cell_type": "code",
      "source": [],
      "metadata": {
        "id": "5r1LtrrM9Tjl"
      },
      "execution_count": null,
      "outputs": []
    },
    {
      "cell_type": "code",
      "source": [
        "l1=[11,2,34,4,55,6]\n",
        "a=len(l1)\n",
        "print(a)\n",
        "b=max(l1)\n",
        "print(b)\n",
        "c=min(l1)\n",
        "print(c)\n",
        "d=sum(l1)\n",
        "print(d)\n",
        "sorted(l1)\n",
        "l1"
      ],
      "metadata": {
        "colab": {
          "base_uri": "https://localhost:8080/"
        },
        "id": "GS9c8pE59TxQ",
        "outputId": "09a7d207-f301-4ce7-aac9-858496adcbe5"
      },
      "execution_count": null,
      "outputs": [
        {
          "output_type": "stream",
          "name": "stdout",
          "text": [
            "6\n",
            "55\n",
            "2\n",
            "112\n"
          ]
        },
        {
          "output_type": "execute_result",
          "data": {
            "text/plain": [
              "[11, 2, 34, 4, 55, 6]"
            ]
          },
          "metadata": {},
          "execution_count": 127
        }
      ]
    },
    {
      "cell_type": "code",
      "source": [
        "l3=list(range(4))\n",
        "print(l3)\n",
        "l4 =list(\"Saurabh\")\n",
        "print(l4)"
      ],
      "metadata": {
        "colab": {
          "base_uri": "https://localhost:8080/"
        },
        "id": "lyXD3gKw-Klb",
        "outputId": "0db3c989-f6a0-4928-ef79-9edb398531ac"
      },
      "execution_count": null,
      "outputs": [
        {
          "output_type": "stream",
          "name": "stdout",
          "text": [
            "[0, 1, 2, 3]\n",
            "['S', 'a', 'u', 'r', 'a', 'b', 'h']\n"
          ]
        }
      ]
    },
    {
      "cell_type": "code",
      "source": [
        "l=[1,2,3]\n",
        "l1=[3,2,1]\n",
        "print(l1==l2)\n",
        "print(l1>l)\n",
        "\n",
        "print(l+l1)\n",
        "\n"
      ],
      "metadata": {
        "colab": {
          "base_uri": "https://localhost:8080/"
        },
        "id": "1JTPynfz-pr2",
        "outputId": "e5bd8b31-a0b6-43e4-c950-8b04e9ff5787"
      },
      "execution_count": null,
      "outputs": [
        {
          "output_type": "stream",
          "name": "stdout",
          "text": [
            "False\n",
            "True\n",
            "[1, 2, 3, 3, 2, 1]\n"
          ]
        }
      ]
    },
    {
      "cell_type": "code",
      "source": [
        "l=[1,2,3]\n",
        "print(l1*2)\n",
        "l4=[[1,2,3],[4,5,6],[7,8,9]]\n",
        "print(l4)\n",
        "print(l4[0])\n",
        "print(l4[1][2])\n"
      ],
      "metadata": {
        "colab": {
          "base_uri": "https://localhost:8080/"
        },
        "id": "aAy-hYOJDfFm",
        "outputId": "208259c8-7c65-4560-a57c-2abfb37aacd9"
      },
      "execution_count": null,
      "outputs": [
        {
          "output_type": "stream",
          "name": "stdout",
          "text": [
            "[3, 2, 1, 3, 2, 1]\n",
            "[[1, 2, 3], [4, 5, 6], [7, 8, 9]]\n",
            "[1, 2, 3]\n",
            "6\n"
          ]
        }
      ]
    },
    {
      "cell_type": "code",
      "source": [
        "l1=[1,2,3,4]\n",
        "l1.remove(4)\n",
        "print(l1)\n",
        "x=l1.pop()\n",
        "print(x)\n",
        "l1.clear()\n",
        "print(l1)\n",
        "l2=[1,2,3,4]\n",
        "l2.reverse()\n",
        "print(l2)\n",
        "i=l2.index(3)\n",
        "print(i)\n"
      ],
      "metadata": {
        "colab": {
          "base_uri": "https://localhost:8080/"
        },
        "id": "B51lYZqiEpFD",
        "outputId": "f99e96a4-f04e-40f6-81dd-d40dff649aa3"
      },
      "execution_count": null,
      "outputs": [
        {
          "output_type": "stream",
          "name": "stdout",
          "text": [
            "[1, 2, 3]\n",
            "3\n",
            "[]\n",
            "[4, 3, 2, 1]\n",
            "1\n"
          ]
        },
        {
          "output_type": "execute_result",
          "data": {
            "text/plain": [
              "0"
            ]
          },
          "metadata": {},
          "execution_count": 158
        }
      ]
    },
    {
      "cell_type": "code",
      "source": [
        "l5=[1,2,3,4,5,6,7,8,9,9,1,2,3]\n",
        "print(l5.index(1))\n",
        "print(l5.count(1))\n",
        "print(sorted(l5,reverse=False))\n",
        "print(sorted(l5,reverse=True))\n",
        "\n",
        "l5.sort()#make permanent changes in the list\n",
        "print(l5)"
      ],
      "metadata": {
        "colab": {
          "base_uri": "https://localhost:8080/"
        },
        "id": "nBlbvAmQGvN-",
        "outputId": "2bfbcffe-cbaa-4594-bbd8-0f0a554f4b76"
      },
      "execution_count": null,
      "outputs": [
        {
          "output_type": "stream",
          "name": "stdout",
          "text": [
            "0\n",
            "2\n",
            "[1, 1, 2, 2, 3, 3, 4, 5, 6, 7, 8, 9, 9]\n",
            "[9, 9, 8, 7, 6, 5, 4, 3, 3, 2, 2, 1, 1]\n",
            "[1, 1, 2, 2, 3, 3, 4, 5, 6, 7, 8, 9, 9]\n"
          ]
        }
      ]
    },
    {
      "cell_type": "code",
      "source": [
        "a=[a+1 for a in range(5)]\n",
        "print(a)\n",
        "b=[3+4 for a in range(5)]\n",
        "print(b)\n",
        "c=[a**2 for a in range(2,20,2)]\n",
        "print(c,end=\" \")"
      ],
      "metadata": {
        "colab": {
          "base_uri": "https://localhost:8080/"
        },
        "id": "1MkcZs1ozg5J",
        "outputId": "36033839-6233-48bc-9d3b-c67bec6070d7"
      },
      "execution_count": null,
      "outputs": [
        {
          "output_type": "stream",
          "name": "stdout",
          "text": [
            "[1, 2, 3, 4, 5]\n",
            "[7, 7, 7, 7, 7]\n",
            "[4, 16, 36, 64, 100, 144, 196, 256, 324] "
          ]
        }
      ]
    },
    {
      "cell_type": "code",
      "source": [
        "oddNumbers = [2 * e - 1 for e in range(1, int(input(\"enter a number\")) + 1)]\n",
        "print(oddNumbers)\n"
      ],
      "metadata": {
        "colab": {
          "base_uri": "https://localhost:8080/"
        },
        "id": "0EjD0gbv1BMw",
        "outputId": "64308cd1-7cbf-4385-a45c-0e56e238b2b1"
      },
      "execution_count": null,
      "outputs": [
        {
          "output_type": "stream",
          "name": "stdout",
          "text": [
            "enter a number10\n",
            "[1, 3, 5, 7, 9, 11, 13, 15, 17, 19]\n"
          ]
        }
      ]
    },
    {
      "cell_type": "code",
      "source": [
        "#string\n",
        "#to check whether iterator is hashable or not\n",
        "l1=[]\n",
        "a=hash(l1)\n",
        "print(a)\n",
        "s1='saurabh'\n",
        "b=hash(s1)\n",
        "print(b)"
      ],
      "metadata": {
        "colab": {
          "base_uri": "https://localhost:8080/"
        },
        "id": "G-k8CmeQ3cAL",
        "outputId": "8e6d1722-142d-4a49-d1f1-f8a8664c8a71"
      },
      "execution_count": null,
      "outputs": [
        {
          "output_type": "stream",
          "name": "stdout",
          "text": [
            "-4079745124490338610\n"
          ]
        }
      ]
    },
    {
      "cell_type": "code",
      "source": [
        "#str object craetion\n",
        "\"\"\"s1='Saurabh'\n",
        "s2=\"saurabh\"\n",
        "s3=\"\"\"Saurabh\"\"\"\n",
        "s4='''Saurabh'''\n",
        "s5=str()/s5=\"\"/s5=''\n",
        "s6=str(123)\n",
        "s7=str(3.45) \"\"\""
      ],
      "metadata": {
        "id": "G8hdcXt44u-Z"
      },
      "execution_count": null,
      "outputs": []
    },
    {
      "cell_type": "code",
      "source": [
        "s1=str([11,22])\n",
        "print(s1)\n",
        "s2='myname'\n",
        "print(s2[0])\n",
        "print(s2[-1])\n",
        "for e in s2:\n",
        "  print(e,end=\" \")\n",
        "\n",
        "\n",
        "print(len(s2))\n",
        "print(min(s2))\n",
        "print(max(s2))\n",
        "print(sorted(s2))\n",
        "print(s2+s2)\n",
        "print(s2*3)\n",
        "print(s2==s2)"
      ],
      "metadata": {
        "colab": {
          "base_uri": "https://localhost:8080/"
        },
        "id": "OpX2lTQd5zku",
        "outputId": "fa70f68d-a2b0-45fa-b112-b724ee15947e"
      },
      "execution_count": null,
      "outputs": [
        {
          "output_type": "stream",
          "name": "stdout",
          "text": [
            "[11, 22]\n",
            "m\n",
            "e\n",
            "m y n a m e 6\n",
            "a\n",
            "y\n",
            "['a', 'e', 'm', 'm', 'n', 'y']\n",
            "mynamemyname\n",
            "mynamemynamemyname\n",
            "True\n"
          ]
        }
      ]
    },
    {
      "cell_type": "code",
      "source": [
        "s1=\"my name is saurabh\"\n",
        "print(type(s1))\n",
        "print(s1.index('i'))\n",
        "print(s1.index('name'))\n",
        "print(s1.count('a'))\n",
        "print(s1.count(' '))\n",
        "print(s1.startswith('my'))\n",
        "print(s1.endswith('h'))\n",
        "print(s1.isdigit())\n",
        "print(s1.islower())\n",
        "print(s1.isupper())\n",
        "print(s1.replace('m','M'))\n",
        "print(s1.replace('a','A',s1.count('a')))\n",
        "a,b=10,20\n",
        "s3=\"Sum of {} and {} is {}\"\n",
        "print(s3.format(a,b,a+b))\n",
        "s3=\"Sum of {2} and {1} is {0}\"\n",
        "print(s3.format(a,b,a+b))\n",
        "s1.split(' ')\n",
        "s5=input(\"Enter number seperated by comma\")\n",
        "print(s5)\n",
        "print(s5.split(','))\n"
      ],
      "metadata": {
        "colab": {
          "base_uri": "https://localhost:8080/"
        },
        "id": "ics0N2qk9o7h",
        "outputId": "ff12a7f2-6678-496b-aeba-6656dffc7eeb"
      },
      "execution_count": null,
      "outputs": [
        {
          "output_type": "stream",
          "name": "stdout",
          "text": [
            "<class 'str'>\n",
            "8\n",
            "3\n",
            "3\n",
            "3\n",
            "True\n",
            "True\n",
            "False\n",
            "True\n",
            "False\n",
            "My naMe is saurabh\n",
            "my nAme is sAurAbh\n",
            "Sum of 10 and 20 is 30\n",
            "Sum of 30 and 20 is 10\n",
            "Enter number seperated by comma10,20,30\n",
            "10,20,30\n",
            "['10', '20', '30']\n"
          ]
        }
      ]
    },
    {
      "cell_type": "code",
      "source": [
        "#split\n",
        "l2=[int(x)for x in input(\"Enter Number Seperated by Comma\").split(',')]\n",
        "print(l2)"
      ],
      "metadata": {
        "colab": {
          "base_uri": "https://localhost:8080/"
        },
        "id": "j7tZ9NfRDCY7",
        "outputId": "ed255ffc-33a9-432b-d335-40f5b266d163"
      },
      "execution_count": null,
      "outputs": [
        {
          "output_type": "stream",
          "name": "stdout",
          "text": [
            "Enter Number Seperated by Comma44,55,66,77\n",
            "[44, 55, 66, 77]\n"
          ]
        }
      ]
    },
    {
      "cell_type": "code",
      "source": [
        "#join\n",
        "s1='i am from bihar and i am proud of that'\n",
        "l1=s1.split(' ')\n",
        "\n",
        "'#'.join(l1)"
      ],
      "metadata": {
        "colab": {
          "base_uri": "https://localhost:8080/",
          "height": 35
        },
        "id": "PaTK5Ob6D6Iw",
        "outputId": "e24fa01f-b6cf-4105-d4b7-4432b5375248"
      },
      "execution_count": null,
      "outputs": [
        {
          "output_type": "execute_result",
          "data": {
            "text/plain": [
              "'i#am#from#bihar#and#i#am#proud#of#that'"
            ],
            "application/vnd.google.colaboratory.intrinsic+json": {
              "type": "string"
            }
          },
          "metadata": {},
          "execution_count": 52
        }
      ]
    },
    {
      "cell_type": "code",
      "source": [
        "#slicing\n",
        "#strobj=[beg:end:step]\n",
        "s2='ABCDEFG'\n",
        "print(s2[0:5:1])\n",
        "print(s2[0:10:1])\n",
        "print(s2[5:1:-1])\n",
        "print(s2[:0:-1])\n",
        "print(s2[1::1])\n",
        "print(s2[6::-1])#reverse\n",
        "print(s2[::])\n"
      ],
      "metadata": {
        "colab": {
          "base_uri": "https://localhost:8080/"
        },
        "id": "_UKfpyFEFAK-",
        "outputId": "81ec9c29-e444-4f80-bf94-fac92557d17c"
      },
      "execution_count": null,
      "outputs": [
        {
          "output_type": "stream",
          "name": "stdout",
          "text": [
            "ABCDE\n",
            "ABCDEFG\n",
            "FEDC\n",
            "GFEDCB\n",
            "BCDEFG\n",
            "GFEDCBA\n",
            "ABCDEFG\n"
          ]
        }
      ]
    },
    {
      "cell_type": "code",
      "source": [
        "' '.join(input(\"Enter A string\").split(' ')[::-1])"
      ],
      "metadata": {
        "colab": {
          "base_uri": "https://localhost:8080/",
          "height": 52
        },
        "id": "CINeyX5RGt25",
        "outputId": "4d621aad-8bf7-47f9-bb26-4ebb80006b5a"
      },
      "execution_count": null,
      "outputs": [
        {
          "name": "stdout",
          "output_type": "stream",
          "text": [
            "Enter A stringwho are you\n"
          ]
        },
        {
          "output_type": "execute_result",
          "data": {
            "text/plain": [
              "'you are who'"
            ],
            "application/vnd.google.colaboratory.intrinsic+json": {
              "type": "string"
            }
          },
          "metadata": {},
          "execution_count": 61
        }
      ]
    },
    {
      "cell_type": "code",
      "source": [
        "#tuple\n",
        "t=(10,20,'ram')\n",
        "print(t)\n",
        "print(type(t))\n",
        "t1=(10)\n",
        "print(type(t1))\n",
        "t2=(10,)\n",
        "print(type(t2))\n",
        "t3=10,20,30\n",
        "print(type(t3))\n",
        "t4=10,20,30,\n",
        "print(type(t4))\n",
        "print(t4[0])\n"
      ],
      "metadata": {
        "colab": {
          "base_uri": "https://localhost:8080/"
        },
        "id": "80LKE2xSHcFt",
        "outputId": "06288d23-8ffb-4a65-8c14-8b2b3fa6234a"
      },
      "execution_count": null,
      "outputs": [
        {
          "output_type": "stream",
          "name": "stdout",
          "text": [
            "(10, 20, 'ram')\n",
            "<class 'tuple'>\n",
            "<class 'int'>\n",
            "<class 'tuple'>\n",
            "<class 'tuple'>\n",
            "<class 'tuple'>\n",
            "10\n"
          ]
        }
      ]
    },
    {
      "cell_type": "code",
      "source": [
        "r=range(10,20,1)\n",
        "print(r[0])\n",
        "print(r[-1])"
      ],
      "metadata": {
        "colab": {
          "base_uri": "https://localhost:8080/"
        },
        "id": "Y8cWvyn5Jw6w",
        "outputId": "f9cf2ee2-950b-47e5-a58d-16da8d194ee3"
      },
      "execution_count": null,
      "outputs": [
        {
          "output_type": "stream",
          "name": "stdout",
          "text": [
            "10\n",
            "19\n"
          ]
        }
      ]
    },
    {
      "cell_type": "code",
      "source": [
        "t1=(10,20,5,15)\n",
        "i=0\n",
        "while i<len(t1):\n",
        "  print(t1[i],end=\" \")\n",
        "  i+=1\n",
        "  print('\\n')\n",
        "for a in t1:\n",
        "  print(a,end=\" \")\n",
        "\n",
        "  \"max,len,min,sum,sorted\"\n",
        "  \"t1+t2\"\n",
        "  \"t1*3\"\n",
        "\n",
        "\n",
        "\n"
      ],
      "metadata": {
        "colab": {
          "base_uri": "https://localhost:8080/"
        },
        "id": "bet_VAu7KHa8",
        "outputId": "55b28d3d-f651-45b9-f03a-f070de8623e5"
      },
      "execution_count": null,
      "outputs": [
        {
          "output_type": "stream",
          "name": "stdout",
          "text": [
            "10 \n",
            "\n",
            "20 \n",
            "\n",
            "5 \n",
            "\n",
            "15 \n",
            "\n",
            "10 20 5 15 "
          ]
        }
      ]
    },
    {
      "cell_type": "code",
      "source": [
        "\n",
        "  t1=(10,20)\n",
        "  t2=(10,33,55)\n",
        "  print(t1>t2)\n",
        "  print(t2>t1)\n",
        "\n",
        "  t3=(11,20,30,55)\n",
        "  t4=(10,20,30,56)\n",
        "  print(t3>t4)\n",
        "  print(t3==t4)\n",
        "  print(t4.index(30))\n",
        "  print(t4.count(30))\n",
        "  t3[1:3:]"
      ],
      "metadata": {
        "colab": {
          "base_uri": "https://localhost:8080/"
        },
        "id": "3ah462NNLggm",
        "outputId": "4d19b138-55f7-4956-eea3-83256970b598"
      },
      "execution_count": null,
      "outputs": [
        {
          "output_type": "stream",
          "name": "stdout",
          "text": [
            "False\n",
            "True\n",
            "True\n",
            "False\n",
            "2\n",
            "1\n"
          ]
        },
        {
          "output_type": "execute_result",
          "data": {
            "text/plain": [
              "(20, 30)"
            ]
          },
          "metadata": {},
          "execution_count": 94
        }
      ]
    },
    {
      "cell_type": "code",
      "source": [
        "t1=tuple([int(e) for e in input().split(' ')])"
      ],
      "metadata": {
        "colab": {
          "base_uri": "https://localhost:8080/"
        },
        "id": "9cYH1staM_Qv",
        "outputId": "ce23f060-eebe-4778-d53e-9515db518170"
      },
      "execution_count": null,
      "outputs": [
        {
          "name": "stdout",
          "output_type": "stream",
          "text": [
            "1 2 3\n"
          ]
        }
      ]
    },
    {
      "cell_type": "code",
      "source": [
        "t1=tuple()\n",
        "print(t1)\n",
        "t2=tuple([1,2,3])\n",
        "print(t2)\n",
        "t3=tuple(range(5))\n",
        "print(t3)"
      ],
      "metadata": {
        "colab": {
          "base_uri": "https://localhost:8080/"
        },
        "id": "ZywIIaGtKTD9",
        "outputId": "b472070f-ff2e-4318-e436-a54a22c85ec9"
      },
      "execution_count": null,
      "outputs": [
        {
          "output_type": "stream",
          "name": "stdout",
          "text": [
            "()\n",
            "(1, 2, 3)\n",
            "(0, 1, 2, 3, 4)\n"
          ]
        }
      ]
    },
    {
      "cell_type": "code",
      "source": [
        "#set-mutable,not sequence,no duplicacy,no slicing\n",
        "s1={1,5,8}\n",
        "print(type(s1))\n",
        "print(s1)\n",
        "s2={10,2,3,4,4,2,7}\n",
        "print(s2)\n",
        "s3={}\n",
        "print(type(s3))\n",
        "s4=set()\n",
        "print(type(s4))\n",
        "#s5=set(10,20,30) not allowed only one arg and it should be iterable\n",
        "s5=set(\"myname\")\n",
        "print(s5)\n",
        "s6=set([10,20,30,40])\n",
        "print(s6)"
      ],
      "metadata": {
        "colab": {
          "base_uri": "https://localhost:8080/"
        },
        "id": "vqyr0UbtNy1X",
        "outputId": "fbd263bc-262b-4b5d-813b-b2df7a49e8e9"
      },
      "execution_count": null,
      "outputs": [
        {
          "output_type": "stream",
          "name": "stdout",
          "text": [
            "<class 'set'>\n",
            "{8, 1, 5}\n",
            "{2, 3, 4, 7, 10}\n",
            "<class 'dict'>\n",
            "<class 'set'>\n",
            "{'y', 'a', 'n', 'e', 'm'}\n",
            "{40, 10, 20, 30}\n"
          ]
        }
      ]
    },
    {
      "cell_type": "code",
      "source": [
        "#remove duplicate elements from a list\n",
        "l1=[20,10,50,20,30,50,20,10]\n",
        "l2=list(set(l1))\n",
        "print(l2)\n",
        "\n",
        "l3=list(set([int(x) for x in input(\"enter num seperated by comma\").split(\",\")]))\n",
        "print(l3)"
      ],
      "metadata": {
        "colab": {
          "base_uri": "https://localhost:8080/"
        },
        "id": "qpa1ycopP7XI",
        "outputId": "20d25d84-e7a3-4e1a-dac4-298db649952d"
      },
      "execution_count": null,
      "outputs": [
        {
          "output_type": "stream",
          "name": "stdout",
          "text": [
            "[10, 20, 50, 30]\n",
            "enter num seperated by comma10,20,30\n",
            "[10, 20, 30]\n"
          ]
        }
      ]
    },
    {
      "cell_type": "code",
      "source": [
        "s1=set([20,10,50,20,30,50,20,10])\n",
        "print(l1)\n",
        "for e in s1:\n",
        "  print(e)\n",
        "\n",
        "  #len\n",
        "  #max\n",
        "  #min\n",
        "  #sum\n",
        "  #sorted\n",
        "  #s1+s2 =not possible\n",
        "  #s1*s2=not possible\n",
        "  #comaprison supported\n",
        "  #two set objects are equal if their elements are same order doesn't matter\n",
        "\n"
      ],
      "metadata": {
        "colab": {
          "base_uri": "https://localhost:8080/"
        },
        "id": "UYa_HCMfREn3",
        "outputId": "f83790ab-fc00-45ae-9a04-7f53ba107b0a"
      },
      "execution_count": null,
      "outputs": [
        {
          "output_type": "stream",
          "name": "stdout",
          "text": [
            "{10, 20, 50, 30}\n",
            "10\n",
            "20\n",
            "50\n",
            "30\n"
          ]
        }
      ]
    },
    {
      "cell_type": "code",
      "source": [
        "s1={10,20,30}\n",
        "s1.add(60)\n",
        "print(s1)\n",
        "s1.add((11,22,33))#iterable and non iterable object\n",
        "print(s1)\n",
        "s1.update([44])#only iterable object\n",
        "\n"
      ],
      "metadata": {
        "colab": {
          "base_uri": "https://localhost:8080/"
        },
        "id": "5ru5JHYtSTsp",
        "outputId": "85a27128-631f-487a-b10d-111df1cf69aa"
      },
      "execution_count": null,
      "outputs": [
        {
          "output_type": "stream",
          "name": "stdout",
          "text": [
            "{10, 20, 30, 60}\n",
            "{10, (11, 22, 33), 20, 60, 30}\n"
          ]
        }
      ]
    },
    {
      "cell_type": "code",
      "source": [
        "s1={10,20,30}\n",
        "s1.update((11,22,33))#iterable elements becomes set elements\n",
        "print(s1)"
      ],
      "metadata": {
        "colab": {
          "base_uri": "https://localhost:8080/"
        },
        "id": "VoRfq-oPW2Q6",
        "outputId": "c9340a85-0b36-43a5-8b79-4b29c966adc8"
      },
      "execution_count": null,
      "outputs": [
        {
          "output_type": "stream",
          "name": "stdout",
          "text": [
            "{33, 10, 11, 20, 22, 30}\n"
          ]
        }
      ]
    },
    {
      "cell_type": "code",
      "source": [
        "s=input(\"enter a string\")\n",
        "\n",
        "s1={ e for e in s if e in \"aeiou\"}\n",
        "print(s1)\n",
        "\"\"\"for e in s:\n",
        "  if e in \"aeiou\":\n",
        "    s1.add(e)\"\"\""
      ],
      "metadata": {
        "colab": {
          "base_uri": "https://localhost:8080/"
        },
        "id": "Le29kgIXXWUr",
        "outputId": "73e76da6-f100-4dcb-db71-374a3225bf9b"
      },
      "execution_count": null,
      "outputs": [
        {
          "output_type": "stream",
          "name": "stdout",
          "text": [
            "enter a stringsaurabh\n",
            "{'a', 'u'}\n"
          ]
        }
      ]
    },
    {
      "cell_type": "code",
      "source": [
        "s1={10,20,30}\n",
        "s1.remove(10)#throws error if element is not presnt\n",
        "print(s1)\n",
        "print(s1.discard(30))#doesn't throws error if element is not presnt\n",
        "print(s1)\n"
      ],
      "metadata": {
        "colab": {
          "base_uri": "https://localhost:8080/"
        },
        "id": "pIuMpQvJYY8Q",
        "outputId": "c2d3b24e-ddc3-444a-e7c7-a5aa64831418"
      },
      "execution_count": null,
      "outputs": [
        {
          "output_type": "stream",
          "name": "stdout",
          "text": [
            "{20, 30}\n",
            "None\n",
            "{20}\n"
          ]
        }
      ]
    },
    {
      "cell_type": "code",
      "source": [
        "s9={1,2,3,4,55,6,7}\n",
        "s9.pop()# it returns the pop out element\n",
        "s9.clear()#make it empty set\n",
        "print(s9)"
      ],
      "metadata": {
        "colab": {
          "base_uri": "https://localhost:8080/"
        },
        "id": "uvTVTOLcZ5Ct",
        "outputId": "a062dc18-b870-4c3e-c5cf-52b56d8beae3"
      },
      "execution_count": null,
      "outputs": [
        {
          "output_type": "stream",
          "name": "stdout",
          "text": [
            "set()\n"
          ]
        }
      ]
    },
    {
      "cell_type": "code",
      "source": [
        "s9={1,2,3,4,55,6,7}\n",
        "s10={1,2,8,99,66,56}\n",
        "print(s9.intersection(s10))\n",
        "print(s9.union(s10))\n",
        "print(s9.issubset(s10))\n",
        "print(s9.issuperset(s10))"
      ],
      "metadata": {
        "colab": {
          "base_uri": "https://localhost:8080/"
        },
        "id": "v5AKgvZ7aFaU",
        "outputId": "54a46398-dc46-4114-848c-cab44047ce4e"
      },
      "execution_count": null,
      "outputs": [
        {
          "output_type": "stream",
          "name": "stdout",
          "text": [
            "{1, 2}\n",
            "{1, 2, 3, 4, 99, 6, 7, 66, 8, 55, 56}\n",
            "False\n",
            "False\n"
          ]
        }
      ]
    },
    {
      "cell_type": "code",
      "source": [
        "#dict-mutable,not in sequence,indexing is valid,no duplicate key but data can be,pair of key-value and data type,slicing in not applicable,no iterable can be passed\n",
        "d1={1:\"saurabh\",2:\"shweta\",3:\"Sapna\",4:\"isha\"}\n",
        "print(d1)\n",
        "print(type(d1))\n",
        "d2={}#empty dict\n",
        "print(type(d2))\n",
        "d3=dict()#empty dict\n",
        "print(d3)\n",
        "#here var(r,c) becomes key by considering name as string.when we craete any dict using dict() this is the limitation\n",
        "d4=dict(r=\"raja\",c=\"chutiya\")\n",
        "print(d4)"
      ],
      "metadata": {
        "id": "A3j96-rEbHjT",
        "colab": {
          "base_uri": "https://localhost:8080/"
        },
        "outputId": "0dd82dbe-bc40-4f7d-a35f-3666732b1a27"
      },
      "execution_count": null,
      "outputs": [
        {
          "output_type": "stream",
          "name": "stdout",
          "text": [
            "{1: 'saurabh', 2: 'shweta', 3: 'Sapna', 4: 'isha'}\n",
            "<class 'dict'>\n",
            "<class 'dict'>\n",
            "{}\n",
            "{'r': 'raja', 'c': 'chutiya'}\n"
          ]
        }
      ]
    },
    {
      "cell_type": "code",
      "source": [
        "d1={1:\"saurabh\",2:\"shweta\",3:\"Sapna\",4:\"isha\"}\n",
        "print(d1)\n",
        "print(d1[1],d1[2],d1[3])\n",
        "for k in d1:\n",
        "  print(k)#to print keys\n",
        "for k in d1:\n",
        "  print(k,d1[k])#to print keys and data value together"
      ],
      "metadata": {
        "colab": {
          "base_uri": "https://localhost:8080/"
        },
        "id": "OX8cCv_RJRxo",
        "outputId": "68f0aec1-03d0-41af-b202-d334d738a30c"
      },
      "execution_count": null,
      "outputs": [
        {
          "output_type": "stream",
          "name": "stdout",
          "text": [
            "{1: 'saurabh', 2: 'shweta', 3: 'Sapna', 4: 'isha'}\n",
            "saurabh shweta Sapna\n",
            "1\n",
            "2\n",
            "3\n",
            "4\n",
            "1 saurabh\n",
            "2 shweta\n",
            "3 Sapna\n",
            "4 isha\n"
          ]
        }
      ]
    },
    {
      "cell_type": "code",
      "source": [
        "d1={1:\"saurabh\",2:\"shweta\",3:\"Sapna\",4:\"isha\"}\n",
        "d1[1]='Ram'\n",
        "#if wanna change data value with key value\n",
        "print(d1)\n",
        "d1[5]=\"Arya\"\n",
        "#if key value is not present in dict then it will assign a new key as well as new data value\n",
        "print(d1)"
      ],
      "metadata": {
        "colab": {
          "base_uri": "https://localhost:8080/"
        },
        "id": "GERM4VrmLVVc",
        "outputId": "43196a23-c1bc-4ac9-c830-a76056923bd8"
      },
      "execution_count": null,
      "outputs": [
        {
          "output_type": "stream",
          "name": "stdout",
          "text": [
            "{1: 'Ram', 2: 'shweta', 3: 'Sapna', 4: 'isha'}\n",
            "{1: 'Ram', 2: 'shweta', 3: 'Sapna', 4: 'isha', 5: 'Arya'}\n"
          ]
        }
      ]
    },
    {
      "cell_type": "code",
      "source": [
        "#dict methods\n",
        "d1={1:\"saurabh\",2:\"shweta\",3:\"Sapna\",4:\"isha\"}\n",
        "print(d1.keys())\n",
        "print(d1.items())#gives tuple\n",
        "\n",
        "#method1:\n",
        "for t in d1.items():#t gonna accept tuple\n",
        "  k=t[0]#t[0]->index\n",
        "  d=t[1]#t[1]->data\n",
        "  print(k,d)\n",
        "#method 2(packing and unpacking)\n",
        "for t in d1.items():\n",
        "  k,d=t\n",
        "  print(k,d)\n",
        "# method 3\n",
        "for t in d1.items():\n",
        "  print(t[0],t[1])\n",
        "#method 4(unpacking)\n",
        "for k,d in d1.items():\n",
        "  print(k,d)"
      ],
      "metadata": {
        "colab": {
          "base_uri": "https://localhost:8080/"
        },
        "id": "CD9SDp0sMFYz",
        "outputId": "07a992c2-546c-4b31-bd44-b9a7ecc27b76"
      },
      "execution_count": null,
      "outputs": [
        {
          "output_type": "stream",
          "name": "stdout",
          "text": [
            "dict_keys([1, 2, 3, 4])\n",
            "dict_items([(1, 'saurabh'), (2, 'shweta'), (3, 'Sapna'), (4, 'isha')])\n",
            "1 saurabh\n",
            "2 shweta\n",
            "3 Sapna\n",
            "4 isha\n",
            "1 saurabh\n",
            "2 shweta\n",
            "3 Sapna\n",
            "4 isha\n",
            "1 saurabh\n",
            "2 shweta\n",
            "3 Sapna\n",
            "4 isha\n",
            "1 saurabh\n",
            "2 shweta\n",
            "3 Sapna\n",
            "4 isha\n"
          ]
        }
      ]
    },
    {
      "cell_type": "code",
      "source": [
        "#these fxns works only on keys\n",
        "d1={1:\"saurabh\",2:\"shweta\",3:\"Sapna\",4:\"isha\"}\n",
        "print(len(d1))\n",
        "print(min(d1))\n",
        "print(max(d1))\n",
        "print(sum(d1))\n",
        "print(sorted(d1))#returns keys"
      ],
      "metadata": {
        "colab": {
          "base_uri": "https://localhost:8080/"
        },
        "id": "EwOCwif_OYPw",
        "outputId": "de25ce41-e032-46f7-f434-5bb0f3732874"
      },
      "execution_count": null,
      "outputs": [
        {
          "output_type": "stream",
          "name": "stdout",
          "text": [
            "4\n",
            "1\n",
            "4\n",
            "10\n",
            "[1, 2, 3, 4]\n"
          ]
        }
      ]
    },
    {
      "cell_type": "code",
      "source": [
        "#d1+!d2(not supported)\n",
        "#d1!*d2(not supported)\n",
        "#d1 compare! d2 (not supported)\n",
        "# d1==d2(supported) values should be equal order doesn't matter\n",
        "#d1!=d2(supported)\n",
        "d1={1:\"saurabh\",2:\"shweta\",3:\"Sapna\",4:\"isha\"}\n",
        "print(d1.pop(1))\n",
        "print(d1)\n",
        "d1.popitem()#returns last item as a tuple\n",
        "print(d1)"
      ],
      "metadata": {
        "colab": {
          "base_uri": "https://localhost:8080/"
        },
        "id": "gJpbdfR1O6et",
        "outputId": "01a4fa8a-cb66-4367-b036-9937a5fe4ffd"
      },
      "execution_count": null,
      "outputs": [
        {
          "output_type": "stream",
          "name": "stdout",
          "text": [
            "saurabh\n",
            "{2: 'shweta', 3: 'Sapna', 4: 'isha'}\n",
            "{2: 'shweta', 3: 'Sapna'}\n"
          ]
        }
      ]
    },
    {
      "cell_type": "code",
      "source": [
        "d3={a:a**2 for a in range(1,8,1)}\n",
        "print(d3)"
      ],
      "metadata": {
        "colab": {
          "base_uri": "https://localhost:8080/"
        },
        "id": "prHBPGaUQcPp",
        "outputId": "71789dc8-db26-496f-f670-ba0ec94c853a"
      },
      "execution_count": null,
      "outputs": [
        {
          "output_type": "stream",
          "name": "stdout",
          "text": [
            "{1: 1, 2: 4, 3: 9, 4: 16, 5: 25, 6: 36, 7: 49}\n"
          ]
        }
      ]
    },
    {
      "cell_type": "code",
      "source": [
        "#function\n",
        "def abc():\n",
        "  print(\"Enter a number\")\n",
        "  n=int(input())\n",
        "  for e in range(1,n+1):\n",
        "    print(e**2,end=\" \")\n",
        "  print()\n",
        "abc()\n",
        "abc()"
      ],
      "metadata": {
        "colab": {
          "base_uri": "https://localhost:8080/"
        },
        "id": "vMXILeAVRGV0",
        "outputId": "53d742f3-eb4e-45ce-f47e-0fce32b3d1e7"
      },
      "execution_count": null,
      "outputs": [
        {
          "output_type": "stream",
          "name": "stdout",
          "text": [
            "Enter a number\n",
            "123\n",
            "1 4 9 16 25 36 49 64 81 100 121 144 169 196 225 256 289 324 361 400 441 484 529 576 625 676 729 784 841 900 961 1024 1089 1156 1225 1296 1369 1444 1521 1600 1681 1764 1849 1936 2025 2116 2209 2304 2401 2500 2601 2704 2809 2916 3025 3136 3249 3364 3481 3600 3721 3844 3969 4096 4225 4356 4489 4624 4761 4900 5041 5184 5329 5476 5625 5776 5929 6084 6241 6400 6561 6724 6889 7056 7225 7396 7569 7744 7921 8100 8281 8464 8649 8836 9025 9216 9409 9604 9801 10000 10201 10404 10609 10816 11025 11236 11449 11664 11881 12100 12321 12544 12769 12996 13225 13456 13689 13924 14161 14400 14641 14884 15129 \n",
            "Enter a number\n",
            "12\n",
            "1 4 9 16 25 36 49 64 81 100 121 144 \n"
          ]
        }
      ]
    },
    {
      "cell_type": "code",
      "source": [
        "#take nothing return nothing\n",
        "def f1():\n",
        "  a=int(input(\"enter a num\"))\n",
        "  b=a**2\n",
        "  print(\"Square of\",a,\"is\",b)\n",
        "f1()"
      ],
      "metadata": {
        "colab": {
          "base_uri": "https://localhost:8080/"
        },
        "id": "192eushFYUfT",
        "outputId": "da87f9c0-82a6-4271-e3da-bbea761b24e2"
      },
      "execution_count": null,
      "outputs": [
        {
          "output_type": "stream",
          "name": "stdout",
          "text": [
            "enter a num23\n",
            "Square of 23 is 529\n"
          ]
        }
      ]
    },
    {
      "cell_type": "code",
      "source": [
        "#takes something return nothing fxn\n",
        "def add(a,b):\n",
        "  c=a+b\n",
        "  print(\"sum:\",c)\n",
        "add(2,10)"
      ],
      "metadata": {
        "colab": {
          "base_uri": "https://localhost:8080/"
        },
        "id": "TVhnaJpOZUUo",
        "outputId": "6011ef65-47e8-40d6-ad01-15c69c24eb76"
      },
      "execution_count": null,
      "outputs": [
        {
          "output_type": "stream",
          "name": "stdout",
          "text": [
            "sum: 12\n"
          ]
        }
      ]
    },
    {
      "cell_type": "code",
      "source": [
        "#take nothing return something\n",
        "def add():\n",
        " print(\"Enter Two Numbers:\")\n",
        " a=int(input())\n",
        " b=int(input())\n",
        " c=a+b\n",
        " return c\n",
        "\n",
        " s=add()\n",
        " print(\"sum:\",s)"
      ],
      "metadata": {
        "id": "VhG2KOkBZu1S"
      },
      "execution_count": null,
      "outputs": []
    },
    {
      "cell_type": "code",
      "source": [
        "#take something return something\n",
        "def add(a,b):\n",
        "  c=a+b\n",
        "  return c\n",
        "x=add(10,20)\n",
        "print(x)"
      ],
      "metadata": {
        "colab": {
          "base_uri": "https://localhost:8080/"
        },
        "id": "R8Fu12QwagP3",
        "outputId": "32c1a40c-012a-499c-a459-6c7252e232ec"
      },
      "execution_count": null,
      "outputs": [
        {
          "output_type": "stream",
          "name": "stdout",
          "text": [
            "30\n"
          ]
        }
      ]
    },
    {
      "cell_type": "code",
      "source": [
        "#keyword args(imp example)\n",
        "#non-default arg cannot come after default arg you have to make them default\n",
        "def f1(a,b,c=50):\n",
        "  d=a+b+c\n",
        "  print(\"sum:\",d)\n",
        "\n",
        "f1(1,2,3)\n",
        "f1(10,20)"
      ],
      "metadata": {
        "colab": {
          "base_uri": "https://localhost:8080/"
        },
        "id": "mHcyJagxa500",
        "outputId": "1c0eea25-b0b3-4688-80c9-95cab9b05fd6"
      },
      "execution_count": null,
      "outputs": [
        {
          "output_type": "stream",
          "name": "stdout",
          "text": [
            "sum: 6\n",
            "sum: 80\n"
          ]
        }
      ]
    },
    {
      "cell_type": "code",
      "source": [
        "#non-default arg cannot come after default arg you have to make them default\n",
        "#def f1(a,b=0,c):\n",
        "#  d=a+b+c\n",
        "#  print(\"sum:\",d)\n",
        "def f1(a,b=0,c=0):\n",
        "    d=a+b+c\n",
        "    print(\"sum:\",d)\n"
      ],
      "metadata": {
        "id": "QLOqD_4rctvp"
      },
      "execution_count": null,
      "outputs": []
    },
    {
      "cell_type": "code",
      "source": [
        "#positional vs keyword arg\n",
        "def f1(a,b):\n",
        "  print(\"a=\",a,\"b=\",b)\n",
        "\n",
        "f1(2,3)#this is positional arg\n",
        "f1(b=2,a=3)#this is keyword arg"
      ],
      "metadata": {
        "colab": {
          "base_uri": "https://localhost:8080/"
        },
        "id": "0TmAoZB1d-kv",
        "outputId": "8f9ff5da-8241-47ef-f7d0-7be72abc2dfb"
      },
      "execution_count": null,
      "outputs": [
        {
          "output_type": "stream",
          "name": "stdout",
          "text": [
            "a= 2 b= 3\n",
            "a= 3 b= 2\n"
          ]
        }
      ]
    },
    {
      "cell_type": "code",
      "source": [
        "def f1(a,b):\n",
        "  print(\"a=\",a,\"b=\",b)\n",
        "\n",
        "#f1(2,a=3)#runtime error passing two values to a\n",
        "f1(2,b=3)#(pos,key)\n",
        "#f1(a=2,3)#synactical error pos arg follows keyword arg"
      ],
      "metadata": {
        "colab": {
          "base_uri": "https://localhost:8080/"
        },
        "id": "lHul1FpAeBZp",
        "outputId": "eda8846f-aa2d-441b-e432-5a89ff3b1fb1"
      },
      "execution_count": null,
      "outputs": [
        {
          "output_type": "stream",
          "name": "stdout",
          "text": [
            "a= 2 b= 3\n"
          ]
        }
      ]
    },
    {
      "cell_type": "code",
      "source": [
        "def add(a,b):\n",
        "  return a+b\n",
        "s=add(3,2)\n",
        "print(s)\n",
        "\n",
        "x=add\n",
        "print(id(add))\n",
        "print(id(x))\n"
      ],
      "metadata": {
        "colab": {
          "base_uri": "https://localhost:8080/"
        },
        "id": "LodX_EKEIPXQ",
        "outputId": "cfa72343-afe4-4e75-9cbb-3ac146d0f174"
      },
      "execution_count": null,
      "outputs": [
        {
          "output_type": "stream",
          "name": "stdout",
          "text": [
            "5\n",
            "139378612525744\n",
            "139378612525744\n"
          ]
        }
      ]
    },
    {
      "cell_type": "code",
      "source": [
        "#lamda fxn-sytacticalley resrtricted to a single line expresiion\n",
        "#used where we work in single line\n",
        "#no need of def and return keyword\n",
        "#fxn without name\n",
        "#used when it is no longer be used further\n",
        "k=(lambda a,b:a+b)(2,3)\n",
        "print(k)\n",
        "\n",
        "add=(lambda c,d:c+d)\n",
        "print(add(10,20))\n"
      ],
      "metadata": {
        "colab": {
          "base_uri": "https://localhost:8080/"
        },
        "id": "u_GXwY3yhK1m",
        "outputId": "082678c4-c6a9-4312-e1a3-01323a70a811"
      },
      "execution_count": null,
      "outputs": [
        {
          "output_type": "stream",
          "name": "stdout",
          "text": [
            "5\n",
            "30\n"
          ]
        }
      ]
    },
    {
      "cell_type": "code",
      "source": [
        "#recursion using lambda\n",
        "f1=lambda n:1 if n==0 or n==1  else n*f1(n-1)\n",
        "print(f1(5))\n",
        "print(f1(100))"
      ],
      "metadata": {
        "colab": {
          "base_uri": "https://localhost:8080/"
        },
        "id": "dJUEbazpJ9iU",
        "outputId": "ef3638a9-1109-41b1-f74b-b610f46f7780"
      },
      "execution_count": null,
      "outputs": [
        {
          "output_type": "stream",
          "name": "stdout",
          "text": [
            "120\n",
            "93326215443944152681699238856266700490715968264381621468592963895217599993229915608941463976156518286253697920827223758251185210916864000000000000000000000000\n"
          ]
        }
      ]
    },
    {
      "cell_type": "code",
      "source": [
        "#oop(incomplete)\n",
        "class test:\n",
        " x=5\n",
        " y=6\n",
        "def f1():\n",
        "  print(\"hello\")\n",
        "t1=test()#create an instance obj\n",
        "t1.x=6\n",
        "t1.y=9\n",
        "print(t1.x)\n",
        "print(t1.y)"
      ],
      "metadata": {
        "colab": {
          "base_uri": "https://localhost:8080/"
        },
        "id": "4fKQsoJUUYkr",
        "outputId": "6cce79b2-23e5-41ba-f148-6f279938cf77"
      },
      "execution_count": null,
      "outputs": [
        {
          "output_type": "stream",
          "name": "stdout",
          "text": [
            "6\n",
            "9\n"
          ]
        }
      ]
    },
    {
      "cell_type": "code",
      "source": [
        "class Parrot:\n",
        "\n",
        "    # class attribute\n",
        "    name = \"\"\n",
        "    age = 0\n",
        "\n",
        "# create parrot1 object\n",
        "parrot1 = Parrot()\n",
        "parrot1.name = \"Blu\"\n",
        "parrot1.age = 10\n",
        "\n",
        "# create another object parrot2\n",
        "parrot2 = Parrot()\n",
        "parrot2.name = \"Woo\"\n",
        "parrot2.age = 15\n",
        "\n",
        "# access attributes\n",
        "#Placing the letter f before the opening quotation mark of a string signals to Python that it's a formatted string literal. This enables you to embed expressions directly within the string using curly braces {}\n",
        "print(f\"{parrot1.name} is {parrot1.age} years old\")\n",
        "print(f\"{parrot2.name} is {parrot2.age} years old\")"
      ],
      "metadata": {
        "colab": {
          "base_uri": "https://localhost:8080/"
        },
        "id": "0Q63Y1A3ISAS",
        "outputId": "30423063-9d26-4f60-86fa-8ea9da19df21"
      },
      "execution_count": null,
      "outputs": [
        {
          "output_type": "stream",
          "name": "stdout",
          "text": [
            "Blu is 10 years old\n",
            "Woo is 15 years old\n"
          ]
        }
      ]
    },
    {
      "cell_type": "code",
      "source": [
        "# Initialize the cart and guest list\n",
        "cart = []\n",
        "guest_list = [\"John\", \"Mary\", \"Bob\"]\n",
        "\n",
        "# Add items to the cart\n",
        "cart.append(\"Apple\")\n",
        "cart.append(\"Banana\")\n",
        "cart.insert(0, \"Orange\")\n",
        "\n",
        "# Remove items from the cart\n",
        "cart.remove(\"Banana\")\n",
        "del cart[0]\n",
        "cart.pop()\n",
        "\n",
        "# Define the prices of items\n",
        "prices = {1.25:\"Apple\",0.75: \"Banana\" , 0.99:\"Orange\" }\n",
        "\n",
        "# Calculate the total cost of items\n",
        "total_cost = 0\n",
        "for item in cart:\n",
        "    total_cost += prices[item]\n",
        "\n",
        "# Print the total cost and the updated cart\n",
        "print(f\"Total cost: ${total_cost:.2f}\")#formattting\n",
        "print(f\"Cart: {cart}\")\n",
        "\n",
        "# Check if a specific guest is on the list\n",
        "if \"Alice\" in guest_list:\n",
        "    print(\"Alice is on the guest list.\")\n",
        "else:\n",
        "    print(\"Alice is not on the guest list.\")\n",
        "\n",
        "# Find the index of a specific guest\n",
        "index = guest_list.index(\"Bob\")\n",
        "print(f\"Bob is at index {index}.\")"
      ],
      "metadata": {
        "colab": {
          "base_uri": "https://localhost:8080/"
        },
        "id": "7k-8YvPRJzWk",
        "outputId": "95c6411a-7d09-492c-e6df-e8670ad14d61"
      },
      "execution_count": null,
      "outputs": [
        {
          "output_type": "stream",
          "name": "stdout",
          "text": [
            "Total cost: $0.00\n",
            "Cart: []\n",
            "Alice is not on the guest list.\n",
            "Bob is at index 2.\n"
          ]
        }
      ]
    },
    {
      "cell_type": "code",
      "source": [],
      "metadata": {
        "id": "5juQzeQdJntm"
      },
      "execution_count": null,
      "outputs": []
    }
  ]
}